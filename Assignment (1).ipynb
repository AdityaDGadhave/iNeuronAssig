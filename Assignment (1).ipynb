{
  "nbformat": 4,
  "nbformat_minor": 0,
  "metadata": {
    "colab": {
      "provenance": []
    },
    "kernelspec": {
      "name": "python3",
      "display_name": "Python 3"
    },
    "language_info": {
      "name": "python"
    }
  },
  "cells": [
    {
      "cell_type": "code",
      "source": [
        "#Q1\n",
        "\n",
        "def convert_dict_to_list(input_dict):\n",
        "\n",
        "  output_dict = {}\n",
        "  def func(current_dict, path):\n",
        "    for key, value in current_dict.items():\n",
        "      new_path = path + [key]\n",
        "      if isinstance(value, str):\n",
        "        output_dict[new_path[-1]] = value\n",
        "      else:\n",
        "        output_dict.setdefault(new_path[-1], []).append(key)\n",
        "        func(value, new_path)\n",
        "  func(input_dict, [])\n",
        "  return output_dict\n",
        "\n",
        "# Example usage\n",
        "input_dict = {\"abc\":{\"def\":{\"ghi\":{\"jkl\":{\"mno\":{\"pqr\":{\"stu\":{\"vwx\":{\"yz\":\"you are finally here !!!\"}}}}}}}}}\n",
        "output_dict = convert_dict_to_list(input_dict)\n",
        "print(output_dict)\n",
        "\n",
        "\n"
      ],
      "metadata": {
        "colab": {
          "base_uri": "https://localhost:8080/"
        },
        "id": "cxvrdxjZjcEW",
        "outputId": "7df54ab3-d12d-4681-932d-50fbe508ec30"
      },
      "execution_count": 9,
      "outputs": [
        {
          "output_type": "stream",
          "name": "stdout",
          "text": [
            "{'abc': ['abc'], 'def': ['def'], 'ghi': ['ghi'], 'jkl': ['jkl'], 'mno': ['mno'], 'pqr': ['pqr'], 'stu': ['stu'], 'vwx': ['vwx'], 'yz': 'you are finally here !!!'}\n"
          ]
        }
      ]
    },
    {
      "cell_type": "code",
      "source": [
        "#Q2)\n",
        "\n",
        "def max_min_distance(stalls, k):\n",
        "    stalls.sort()\n",
        "    n = len(stalls)\n",
        "    max_min_distance = float('inf')\n",
        "    left = 0\n",
        "    right = k - 1\n",
        "    while right < n:\n",
        "        max_min_distance = min(max_min_distance, stalls[right] - stalls[left])\n",
        "        left += 1\n",
        "        right += 1\n",
        "    return max_min_distance\n",
        "\n",
        "array = [1, 2, 4, 8, 9]\n",
        "k = 3\n",
        "print('here we go and answer is :-> ',max_min_distance(array, k))"
      ],
      "metadata": {
        "colab": {
          "base_uri": "https://localhost:8080/"
        },
        "id": "bvcjx-u5kPqn",
        "outputId": "3f2d792c-f995-4cc7-dc5a-3d1466f55d20"
      },
      "execution_count": 10,
      "outputs": [
        {
          "output_type": "stream",
          "name": "stdout",
          "text": [
            "here we go and answer is :->  3\n"
          ]
        }
      ]
    },
    {
      "cell_type": "code",
      "source": [
        "#Q3\n",
        "\n",
        "\n",
        "def designer_door_mat(n, m):\n",
        "\n",
        "  if n % 2 == 0 or m % 3 != 0:\n",
        "    raise ValueError(\"Invalid input: N must be odd and M must be a multiple of 3.\")\n",
        "\n",
        "  center_row = n // 2    #<------floor division\n",
        "  center_col = m // 2\n",
        "\n",
        "\n",
        "  for i in range(center_row):\n",
        "    num_dots = (m - 3 * (i + 1)) // 2\n",
        "    pattern = f\"{'-'*num_dots}.|.{'-'*num_dots}\"\n",
        "    print(pattern.center(m, '-'))\n",
        "\n",
        "\n",
        "  print('WELCOME'.center(m, '-'))\n",
        "\n",
        "\n",
        "  for i in range(center_row - 1, -1, -1):\n",
        "    num_dots = (m - 3 * (i + 1)) // 2\n",
        "    pattern = f\"{'-'*num_dots}.|.{'-'*num_dots}\"\n",
        "    print(pattern.center(m, '-'))\n",
        "\n",
        "n = 7\n",
        "m = 21\n",
        "designer_door_mat(n, m)\n"
      ],
      "metadata": {
        "colab": {
          "base_uri": "https://localhost:8080/"
        },
        "id": "uRilau-5pABp",
        "outputId": "3486dfca-4507-4894-d231-d6649fe158a4"
      },
      "execution_count": 12,
      "outputs": [
        {
          "output_type": "stream",
          "name": "stdout",
          "text": [
            "---------.|.---------\n",
            "---------.|.---------\n",
            "---------.|.---------\n",
            "-------WELCOME-------\n",
            "---------.|.---------\n",
            "---------.|.---------\n",
            "---------.|.---------\n"
          ]
        }
      ]
    },
    {
      "cell_type": "code",
      "source": [
        "#Q4)\n",
        "\n",
        "\n",
        "def fourSum(nums, target):\n",
        "    nums.sort()\n",
        "    n = len(nums)\n",
        "    quadruplets = []\n",
        "\n",
        "    for i in range(n - 3):\n",
        "        if i > 0 and nums[i] == nums[i - 1]:\n",
        "            continue\n",
        "\n",
        "        for j in range(i + 1, n - 2):\n",
        "            if j > i + 1 and nums[j] == nums[j - 1]:\n",
        "                continue\n",
        "\n",
        "            left = j + 1\n",
        "            right = n - 1\n",
        "\n",
        "            while left < right:\n",
        "                total = nums[i] + nums[j] + nums[left] + nums[right]\n",
        "\n",
        "                if total == target:\n",
        "                    quadruplets.append([nums[i], nums[j], nums[left], nums[right]])\n",
        "                    left += 1\n",
        "                    right -= 1\n",
        "\n",
        "                    while left < right and nums[left] == nums[left - 1]:\n",
        "                        left += 1\n",
        "                    while left < right and nums[right] == nums[right + 1]:\n",
        "                        right -= 1\n",
        "\n",
        "                elif total < target:\n",
        "                    left += 1\n",
        "                else:\n",
        "                    right -= 1\n",
        "\n",
        "    return quadruplets\n",
        "nums = [1, 0, -1, 0, -2, 2]\n",
        "target = 0\n",
        "result = fourSum(nums, target)\n",
        "print(result)\n"
      ],
      "metadata": {
        "colab": {
          "base_uri": "https://localhost:8080/"
        },
        "id": "khtmcaHwq_pB",
        "outputId": "8be488d5-22f8-4ff3-de21-7aaca51b35de"
      },
      "execution_count": 13,
      "outputs": [
        {
          "output_type": "stream",
          "name": "stdout",
          "text": [
            "[[-2, -1, 1, 2], [-2, 0, 0, 2], [-1, 0, 0, 1]]\n"
          ]
        }
      ]
    },
    {
      "cell_type": "markdown",
      "source": [
        "SQL\n"
      ],
      "metadata": {
        "id": "2BA71Ques5GX"
      }
    },
    {
      "cell_type": "markdown",
      "source": [
        "SELECT * FROM runners WHERE id NOT IN (SELECT winner_id FROM races);\n",
        "\n",
        "Expalnaton:->   The inner query (SELECT winner_id FROM races) retrieves all winner_id values from the races table.\n",
        "\n",
        "The outer query SELECT * FROM runners WHERE id NOT IN (...) selects all rows from the runners table where the id is not present in the winner_id column of the races table.\n",
        "\n",
        "if there are NULL values in the winner_id column of the races table, the query may not work as expected because NOT IN doesn't behave as expected when dealing with NULL values.\n",
        "\n",
        " To handle NULL values correctly, you can rewrite the query using a subquery with NOT EXISTS\n",
        "\n",
        "\n",
        "\n",
        " SELECT * FROM runners\n",
        "WHERE NOT EXISTS (SELECT 1 FROM races WHERE races.winner_id = runners.id);\n",
        "\n",
        "\n",
        "with this query we can handle Null error\n",
        "\n",
        "This query will select all rows from the runners table where there is no corresponding id in the winner_id column of the races table, including rows where winner_id is NULL."
      ],
      "metadata": {
        "id": "S42rHlEetyZ_"
      }
    },
    {
      "cell_type": "code",
      "source": [
        "#Q2)\n",
        "\n",
        "\n",
        "SELECT a.id\n",
        "FROM test_a a\n",
        "LEFT JOIN test_b b ON a.id = b.id\n",
        "WHERE b.id IS NULL;\n"
      ],
      "metadata": {
        "id": "EUl0YMNTushY"
      },
      "execution_count": null,
      "outputs": []
    },
    {
      "cell_type": "code",
      "source": [
        "#Q3)\n",
        "\n",
        "SELECT u.username, td.training_id, td.training_date\n",
        "FROM users u\n",
        "JOIN training_details td ON u.user_id = td.user_id\n",
        "GROUP BY u.username, td.training_id, td.training_date\n",
        "HAVING COUNT(*) > 1\n",
        "ORDER BY td.training_date DESC;\n"
      ],
      "metadata": {
        "id": "3dAfS6v7vpxH"
      },
      "execution_count": null,
      "outputs": []
    },
    {
      "cell_type": "code",
      "source": [
        "#Q4)\n",
        "\n",
        "\n",
        "SELECT Manager_Id,\n",
        "       Manager,\n",
        "       AVG(Salary) AS Average_Salary_Under_Manager\n",
        "FROM (\n",
        "    SELECT e1.Manager_Id,\n",
        "           e1.Emp_name AS Manager,\n",
        "           e2.Salary\n",
        "    FROM Employees e1\n",
        "    JOIN Employees e2 ON e1.Emp_id = e2.Manager_Id\n",
        ") AS Subquery\n",
        "GROUP BY Manager_Id, Manager\n",
        "ORDER BY Manager_Id;\n"
      ],
      "metadata": {
        "id": "k5__ZJli0ZZP"
      },
      "execution_count": null,
      "outputs": []
    },
    {
      "cell_type": "markdown",
      "source": [
        " Statistics\n",
        "\n",
        "\n"
      ],
      "metadata": {
        "id": "g2JdZ0zP02Po"
      }
    },
    {
      "cell_type": "markdown",
      "source": [
        "Q1)\n",
        "\n",
        "What is the meaning of six sigma in statistics?  Give proper example\n",
        "\n",
        "\n",
        "\n",
        "\n",
        "Six Sigma is a methodology used in statistics and business to improve process quality by minimizing defects and variation. It's based on the concept that any process can be statistically measured and improved. Here's a breakdown of its meaning and an example:\n",
        "\n",
        "Meaning:\n",
        "\n",
        "Six Sigma refers to a statistical measure of how far a process deviates from perfection. A process is considered \"Six Sigma\" if its quality is within 6 standard deviations of the mean value.\n",
        "\n",
        "Standard deviation is a statistical measure that indicates how spread out the data points are from the average value. A smaller standard deviation means the data points are closer to the mean, indicating less variation.\n",
        "\n",
        "In simpler terms, Six Sigma aims to achieve a process where only 3.4 defects occur per million opportunities. This incredibly low defect rate signifies a highly reliable and efficient process.\n",
        "Example:\n",
        "\n",
        "Imagine a manufacturing company that produces bottles. They want to ensure the bottles are filled to the correct capacity. Here's how Six Sigma could be applied:\n",
        "\n",
        "Measure current performance: The company measures the actual fill volume of a large sample of bottles.\n",
        "\n",
        "Analyze data: They analyze the data to find the average fill volume and standard deviation.\n",
        "\n",
        "Define acceptable limits: They define an acceptable fill range (e.g., within +/- 0.5 ml of the target volume).\n",
        "\n",
        "Identify defects: Any bottle outside the acceptable range is considered a defect.\n",
        "\n",
        "Improve the process: Based on the data, the company identifies and implements improvements to minimize variations in the filling process.\n",
        "\n",
        "This could involve calibrating machines, improving material handling, or implementing stricter quality control procedures.\n",
        "\n",
        "Monitor and control: The company continues to monitor the process and adjust it as needed to maintain a low defect rate.\n",
        "\n",
        "By following these steps and achieving Six Sigma quality, the bottle filling process would become highly reliable, with a very low probability of producing bottles outside the acceptable fill range. This reduces waste, improves customer satisfaction, and potentially saves the company money.\n",
        "\n",
        "Six Sigma goes beyond this simple example and can be applied to various processes in different industries"
      ],
      "metadata": {
        "id": "NQfErM1l1yXe"
      }
    },
    {
      "cell_type": "markdown",
      "source": [],
      "metadata": {
        "id": "SlTwnCpS3ux2"
      }
    },
    {
      "cell_type": "markdown",
      "source": [
        "Q2)\n",
        "\n",
        "What type of data does not have a log-normal distribution or a Gaussian distribution?  Give proper example\n",
        "\n",
        "\n",
        "There are several types of data that may not follow a log-normal or Gaussian (normal) distribution. Here are a few examples:\n",
        "\n",
        "1. Discrete Data with Limited Range:\n",
        "\n",
        "Example: Number of siblings a person has (0, 1, 2, 3, etc.). This data is discrete (whole numbers) and has a limited range. A normal or log-normal distribution wouldn't be suitable because it can theoretically extend infinitely on both sides. We might use a Poisson distribution or a binomial distribution for such data, depending on the context.\n",
        "2. Data with a Strong Skew:\n",
        "\n",
        "Example: Income distribution in a country. Incomes are often skewed to the right, with a few very high earners and many people with lower incomes. A normal distribution, which is symmetrical, wouldn't accurately represent this. We might use a Pareto distribution or a log-normal distribution (in some cases) for skewed income data.\n",
        "3. Data with Bounded Limits:\n",
        "\n",
        "Example: Exam scores with a fixed grading scale (0-100%). Both normal and log-normal distributions can extend infinitely on one or both sides, which wouldn't be appropriate for scores limited by the grading scale. We might use a uniform distribution (for scores spread evenly across the range) or other distributions depending on the specific grading system.\n",
        "4. Categorical Data:\n",
        "\n",
        "Example: Blood type (A, B, AB, O). Categorical data doesn't represent numerical values but rather distinct categories. Neither normal nor log-normal distributions are applicable here.\n",
        "5. Spiky or Highly Variable Data:\n",
        "\n",
        "Example: Daily website traffic. Website traffic can have sudden spikes and dips, violating the smoothness assumption of normal and log-normal distributions. We might use more complex models or statistical methods to analyze such data."
      ],
      "metadata": {
        "id": "E_8JvtoS1_W-"
      }
    },
    {
      "cell_type": "markdown",
      "source": [
        "\n"
      ],
      "metadata": {
        "id": "wK4mSnKi3Pcp"
      }
    },
    {
      "cell_type": "markdown",
      "source": [
        "Q3)\n",
        "\n",
        "\n",
        "What is the meaning of the five-number summary in Statistics? Give proper example\n",
        "\n",
        "\n",
        "The five-number summary is a descriptive statistics technique used to summarize the distribution of a dataset. It provides a concise summary of the central tendency, variability, and shape of the data. The five numbers typically include the minimum, first quartile (Q1), median (Q2), third quartile (Q3), and maximum of the dataset.\n",
        "\n",
        "Here's what each of the five numbers represents:\n",
        "\n",
        "Minimum: The smallest value in the dataset.\n",
        "First Quartile (Q1): The value below which 25% of the data falls. It is also the median of the lower half of the dataset.\n",
        "Median (Q2): The middle value of the dataset when it is sorted in ascending order. It represents the value below which 50% of the data falls.\n",
        "Third Quartile (Q3): The value below which 75% of the data falls. It is also the median of the upper half of the dataset.\n",
        "Maximum: The largest value in the dataset.\n",
        "The five-number summary can be represented visually using a box plot, where the minimum, Q1, median, Q3, and maximum are plotted on a scale. This visualization helps to identify the spread and skewness of the data, as well as detect outliers."
      ],
      "metadata": {
        "id": "8Q4Aa0vG3cHf"
      }
    },
    {
      "cell_type": "markdown",
      "source": [],
      "metadata": {
        "id": "BTLyJOX13dXe"
      }
    },
    {
      "cell_type": "markdown",
      "source": [
        " It indicates the strength and direction of the linear relationship between the variables. The correlation coefficient, often denoted by \"r,\" ranges from -1 to 1, where:\n",
        "\n",
        "1 indicates a perfect positive linear relationship (as one variable increases, the other variable increases).\n",
        "-1 indicates a perfect negative linear relationship (as one variable increases, the other variable decreases).\n",
        "0 indicates no linear relationship between the variables.\n",
        "Correlation is a dimensionless quantity, meaning it does not have any units. It only measures the strength and direction of the linear relationship, not the slope of the relationship.\n",
        "\n",
        "Here's an example of correlation with a dataset:\n",
        "\n",
        "Suppose we have a dataset consisting of two variables: the number of hours studied (X) and the exam score achieved (Y) by a group of students."
      ],
      "metadata": {
        "id": "7BFyaaGl4GKw"
      }
    },
    {
      "cell_type": "code",
      "source": [
        "Hours_Studied= [2, 3, 4, 5, 6, 7, 8, 9, 10]\n",
        "Exam_Score=  [60, 65, 70, 75, 80, 85, 90, 95, 100]\n",
        "\n",
        "\n",
        "import numpy as np\n",
        "\n",
        "# Dataset\n",
        "hours_studied = np.array([2, 3, 4, 5, 6, 7, 8, 9, 10])\n",
        "exam_score = np.array([60, 65, 70, 75, 80, 85, 90, 95, 100])\n",
        "\n",
        "# Calculate correlation coefficient\n",
        "correlation_coefficient = np.corrcoef(hours_studied, exam_score)[0, 1]\n",
        "print(\"Correlation coefficient:\", correlation_coefficient)\n"
      ],
      "metadata": {
        "colab": {
          "base_uri": "https://localhost:8080/"
        },
        "id": "nMosvakw4Xh4",
        "outputId": "b612daa5-2657-453b-c97b-00d18fb50271"
      },
      "execution_count": 14,
      "outputs": [
        {
          "output_type": "stream",
          "name": "stdout",
          "text": [
            "Correlation coefficient: 1.0\n"
          ]
        }
      ]
    },
    {
      "cell_type": "code",
      "source": [
        "import matplotlib.pyplot as plt\n",
        "\n",
        "# Scatter plot\n",
        "plt.scatter(hours_studied, exam_score)\n",
        "plt.title(\"Scatter Plot of Hours Studied vs Exam Score\")\n",
        "plt.xlabel(\"Hours Studied\")\n",
        "plt.ylabel(\"Exam Score\")\n",
        "plt.grid(True)\n",
        "plt.show()\n"
      ],
      "metadata": {
        "colab": {
          "base_uri": "https://localhost:8080/",
          "height": 472
        },
        "id": "7CcQS9bF4jPv",
        "outputId": "cbec50bb-36e4-423a-d7b1-5c025b36a224"
      },
      "execution_count": 15,
      "outputs": [
        {
          "output_type": "display_data",
          "data": {
            "text/plain": [
              "<Figure size 640x480 with 1 Axes>"
            ],
            "image/png": "[encoded data removed]"
          },
          "metadata": {}
        }
      ]
    },
    {
      "cell_type": "markdown",
      "source": [
        "Machine Learning"
      ],
      "metadata": {
        "id": "t5V_bWkh7Dfx"
      }
    },
    {
      "cell_type": "code",
      "source": [
        "'''Imagine you have a dataset where you have different Instagram features like u sername , Caption , Hashtag , Followers ,\n",
        "Time_Since_posted , and likes , now your task is to predict the number of likes and Time Since posted and the rest of the features are your input\n",
        " features. Now you have to build a model which can predict the number of likes and Time Since posted.'''\n",
        "\n",
        "\n",
        "import pandas as pd\n",
        "from sklearn.model_selection import train_test_split\n",
        "from sklearn.preprocessing import StandardScaler\n",
        "from sklearn.linear_model import LinearRegression\n",
        "from sklearn.ensemble import RandomForestRegressor\n",
        "from sklearn.metrics import mean_squared_error, mean_absolute_error\n",
        "from sklearn.pipeline import Pipeline\n",
        "from sklearn.compose import ColumnTransformer\n",
        "from sklearn.impute import SimpleImputer\n",
        "from sklearn.preprocessing import OneHotEncoder\n",
        "from sklearn.compose import TransformedTargetRegressor\n",
        "\n",
        "# Step 1: Data Preprocessing\n",
        "data = pd.read_csv(r\"https://www.kaggle.com/datasets/rxsraghavagrawal/instagram-reach\")\n",
        "\n",
        "# Drop unnecessary columns like 'username', 'caption', and 'hashtag'\n",
        "data.drop(['Username', 'Caption', 'Hashtags'], axis=1, inplace=True)\n",
        "\n",
        "# Handle missing values\n",
        "data.fillna({'Followers': data['Followers'].median()}, inplace=True)\n",
        "\n",
        "# Split the data into input features (X) and target variables (y_likes, y_time_since_posted)\n",
        "X = data.drop(['Likes', 'Time_since_posted'], axis=1)\n",
        "y_likes = data['Likes']\n",
        "y_time_since_posted = data['Time_since_posted']\n",
        "\n",
        "# Split the data into training and testing sets\n",
        "X_train, X_test, y_likes_train, y_likes_test, y_time_train, y_time_test = train_test_split(X, y_likes, y_time_since_posted, test_size=0.2, random_state=42)\n",
        "\n",
        "# Step 2: Feature Engineering (No additional feature engineering for now)\n",
        "\n",
        "# Step 3: Model Selection\n",
        "\n",
        "numeric_features = ['Followers']\n",
        "numeric_transformer = Pipeline(steps=[\n",
        "    ('imputer', SimpleImputer(strategy='median')),\n",
        "    ('scaler', StandardScaler())\n",
        "])\n",
        "\n",
        "categorical_features = ['Location']\n",
        "categorical_transformer = Pipeline(steps=[\n",
        "    ('imputer', SimpleImputer(strategy='constant', fill_value='unknown')),\n",
        "    ('onehot', OneHotEncoder(handle_unknown='ignore'))\n",
        "])\n",
        "\n",
        "preprocessor = ColumnTransformer(\n",
        "    transformers=[\n",
        "        ('num', numeric_transformer, numeric_features),\n",
        "        ('cat', categorical_transformer, categorical_features)\n",
        "    ])\n",
        "\n",
        "# Define models\n",
        "model_likes = RandomForestRegressor(n_estimators=100, random_state=42)\n",
        "model_time_since_posted = LinearRegression()\n",
        "\n",
        "# Step 4: Model Training\n",
        "\n",
        "pipeline_likes = Pipeline(steps=[('preprocessor', preprocessor),\n",
        "                                 ('model', model_likes)])\n",
        "pipeline_time_since_posted = Pipeline(steps=[('preprocessor', preprocessor),\n",
        "                                             ('model', model_time_since_posted)])\n",
        "\n",
        "# Fit the models\n",
        "pipeline_likes.fit(X_train, y_likes_train)\n",
        "pipeline_time_since_posted.fit(X_train, y_time_train)\n",
        "\n",
        "# Step 5: Model Evaluation\n",
        "\n",
        "y_likes_pred = pipeline_likes.predict(X_test)\n",
        "y_time_pred = pipeline_time_since_posted.predict(X_test)\n",
        "\n",
        "# Compute evaluation metrics\n",
        "likes_mse = mean_squared_error(y_likes_test, y_likes_pred)\n",
        "likes_mae = mean_absolute_error(y_likes_test, y_likes_pred)\n",
        "time_mae = mean_absolute_error(y_time_test, y_time_pred)\n",
        "\n",
        "print(\"Likes Prediction Metrics:\")\n",
        "print(\"Mean Squared Error:\", likes_mse)\n",
        "print(\"Mean Absolute Error:\", likes_mae)\n",
        "print(\"\\nTime Since Posted Prediction Metrics:\")\n",
        "print(\"Mean Absolute Error:\", time_mae)\n",
        "\n"
      ],
      "metadata": {
        "id": "yw6BfG0v7MdI"
      },
      "execution_count": null,
      "outputs": []
    },
    {
      "cell_type": "markdown",
      "source": [],
      "metadata": {
        "id": "KfE9dCuz828t"
      }
    },
    {
      "cell_type": "code",
      "source": [
        "# Q2)\n",
        "\n",
        "import pandas as pd\n",
        "\n",
        "# Load the dataset\n",
        "data = pd.read_csv(\"Bengaluru_House_Data.csv\")\n",
        "\n",
        "# Display the first few rows of the dataset\n",
        "print(data.head())\n",
        "\n",
        "# Check the data types and missing values\n",
        "print(data.info())\n",
        "\n",
        "# Summary statistics\n",
        "print(data.describe())\n",
        "\n",
        "# Check for missing values\n",
        "print(data.isnull().sum())\n",
        "\n",
        "# Check unique values in categorical features\n",
        "print(data['area_type'].value_counts())\n",
        "print(data['availability'].value_counts())\n",
        "print(data['location'].value_counts())\n",
        "print(data['size'].value_counts())\n",
        "print(data['society'].value_counts())\n",
        "print(data['total_sqft'].value_counts())\n",
        "print(data['bath'].value_counts())\n",
        "print(data['balcony'].value_counts())\n",
        "\n",
        "from sklearn.model_selection import train_test_split\n",
        "from sklearn.svm import SVR\n",
        "from sklearn.pipeline import Pipeline\n",
        "from sklearn.compose import ColumnTransformer\n",
        "from sklearn.preprocessing import OneHotEncoder, StandardScaler\n",
        "from sklearn.impute import SimpleImputer\n",
        "\n",
        "# Split data into features and target variable\n",
        "X = data.drop(['price'], axis=1)\n",
        "y = data['price']\n",
        "\n",
        "# Split data into training and testing sets\n",
        "X_train, X_test, y_train, y_test = train_test_split(X, y, test_size=0.2, random_state=42)\n",
        "\n",
        "# Define preprocessing steps for numeric and categorical features\n",
        "numeric_features = ['bath', 'balcony', 'total_sqft']\n",
        "numeric_transformer = Pipeline(steps=[\n",
        "    ('imputer', SimpleImputer(strategy='median')),\n",
        "    ('scaler', StandardScaler())\n",
        "])\n",
        "\n",
        "categorical_features = ['area_type', 'availability', 'location', 'size', 'society']\n",
        "categorical_transformer = Pipeline(steps=[\n",
        "    ('imputer', SimpleImputer(strategy='constant', fill_value='missing')),\n",
        "    ('onehot', OneHotEncoder(handle_unknown='ignore'))\n",
        "])\n",
        "\n",
        "preprocessor = ColumnTransformer(\n",
        "    transformers=[\n",
        "        ('num', numeric_transformer, numeric_features),\n",
        "        ('cat', categorical_transformer, categorical_features)\n",
        "    ])\n",
        "\n",
        "# Define the SVM regressor\n",
        "svm_regressor = SVR()\n",
        "\n",
        "# Create a pipeline with preprocessing and SVM regressor\n",
        "model = Pipeline(steps=[('preprocessor', preprocessor),\n",
        "                        ('regressor', svm_regressor)])\n",
        "\n",
        "# Train the model\n",
        "model.fit(X_train, y_train)\n",
        "\n",
        "# Evaluate the model\n",
        "train_score = model.score(X_train, y_train)\n",
        "test_score = model.score(X_test, y_test)\n",
        "print(\"Training R^2 score:\", train_score)\n",
        "print(\"Testing R^2 score:\", test_score)\n"
      ],
      "metadata": {
        "id": "xtVbrZWa9TAf"
      },
      "execution_count": null,
      "outputs": []
    },
    {
      "cell_type": "code",
      "source": [
        "#Q4)\n",
        "'''Train and fine tune a decision tree using the wine dataset by following the following steps:-\n",
        "\n",
        "  1. Use load_wine() to generate wine dataset\n",
        "  2. Split the dataset into train and test  dataset\n",
        "  3. Use random search CV to hyperparameter tune the Decision Tree\n",
        "  4. Try to achieve an accuracy of at least 85%\n",
        "\n",
        "\n",
        "Grow a random forest using the following steps:-\n",
        "\n",
        "  1. Continuing the previous question, create 10 subsets of the training dataset. You can use the ShuffleSplit                class for it.\n",
        "  2. Train 1 decision tree on each subset, using the best hyperparameter values found in the previous question.\n",
        "  3. Evaluate all the trees on the test dataset. Are they performing better than the tree created in the previous question?'''\n",
        "\n",
        "\n",
        "from sklearn.datasets import load_wine\n",
        "from sklearn.model_selection import train_test_split, RandomizedSearchCV, ShuffleSplit\n",
        "from sklearn.tree import DecisionTreeClassifier\n",
        "from sklearn.ensemble import RandomForestClassifier\n",
        "from scipy.stats import randint\n",
        "\n",
        "# Step 1: Load the wine dataset\n",
        "wine = load_wine()\n",
        "X, y = wine.data, wine.target\n",
        "\n",
        "# Step 2: Split the dataset into train and test dataset\n",
        "X_train, X_test, y_train, y_test = train_test_split(X, y, test_size=0.2, random_state=42)\n",
        "\n",
        "# Step 3: Hyperparameter tuning using RandomizedSearchCV\n",
        "param_dist = {\n",
        "    'max_depth': randint(1, 20),\n",
        "    'min_samples_split': randint(2, 20),\n",
        "    'min_samples_leaf': randint(1, 20),\n",
        "    'criterion': ['gini', 'entropy']\n",
        "}\n",
        "\n",
        "dt = DecisionTreeClassifier()\n",
        "random_search = RandomizedSearchCV(dt, param_distributions=param_dist, n_iter=100, cv=5, scoring='accuracy', random_state=42)\n",
        "random_search.fit(X_train, y_train)\n",
        "\n",
        "print(\"Best parameters found by RandomizedSearchCV:\")\n",
        "print(random_search.best_params_)\n",
        "\n",
        "# Step 4: Evaluate the decision tree model\n",
        "best_dt_model = random_search.best_estimator_\n",
        "accuracy_dt = best_dt_model.score(X_test, y_test)\n",
        "print(\"Accuracy of the Decision Tree model:\", accuracy_dt)\n",
        "\n",
        "# Step 5: Grow a random forest\n",
        "# Create 10 subsets of the training dataset\n",
        "rs = ShuffleSplit(n_splits=10, test_size=0.2, random_state=42)\n",
        "forest = []\n",
        "for train_index, _ in rs.split(X_train):\n",
        "    subset_X_train, subset_y_train = X_train[train_index], y_train[train_index]\n",
        "\n",
        "    # Train decision tree on each subset using best hyperparameters\n",
        "    dt = DecisionTreeClassifier(**random_search.best_params_)\n",
        "    dt.fit(subset_X_train, subset_y_train)\n",
        "    forest.append(dt)\n",
        "\n",
        "# Evaluate all trees on the test dataset\n",
        "accuracy_forest = sum(dt.score(X_test, y_test) for dt in forest) / len(forest)\n",
        "print(\"Average accuracy of the Random Forest:\", accuracy_forest)\n"
      ],
      "metadata": {
        "id": "_gkjPSJl_MH7"
      },
      "execution_count": null,
      "outputs": []
    },
    {
      "cell_type": "markdown",
      "source": [
        "Deep Learning"
      ],
      "metadata": {
        "id": "yJ2y5lQ9AhFh"
      }
    },
    {
      "cell_type": "markdown",
      "source": [
        "Q1\n",
        "\n",
        "\n",
        "\n",
        "Problem Definition and Data Collection:\n",
        "\n",
        "Clearly define the problem you want to solve and determine whether DL is the appropriate approach.\n",
        "Gather relevant data for training and validation. Ensure the data is labeled (if applicable) and sufficiently large and diverse to represent the problem space.\n",
        "\n",
        "Data Preprocessing:\n",
        "\n",
        "Clean the data by handling missing values, outliers, and inconsistencies.\n",
        "\n",
        "Normalize or standardize the data to ensure features are on a similar scale.\n",
        "\n",
        "Split the data into training, validation, and test sets.\n",
        "\n",
        "Model Selection and Architecture Design:\n",
        "\n",
        "Choose a DL architecture (e.g., convolutional neural networks for image data, recurrent neural networks for sequential data) based on the problem requirements and characteristics of the data.\n",
        "\n",
        "Design the architecture, including the number of layers, types of layers,\n",
        "\n",
        "activation functions, regularization techniques, and optimization algorithms.\n",
        "\n",
        "\n",
        "Model Training:\n",
        "\n",
        "Train the DL model on the training data using backpropagation and gradient descent.\n",
        "\n",
        "Monitor training progress by evaluating performance metrics on the validation set and adjusting hyperparameters as needed.\n",
        "\n",
        "Prevent overfitting by applying regularization techniques (e.g., dropout, L2 regularization) and early stopping.\n",
        "\n",
        "\n",
        "Model Evaluation:\n",
        "\n",
        "Evaluate the trained model on the test set to assess its generalization performance.\n",
        "\n",
        "Measure performance metrics such as accuracy, precision, recall, F1-score, and ROC-AUC depending on the problem type (classification, regression, etc.).\n",
        "\n",
        "\n",
        "Deployment and Integration:\n",
        "\n",
        "Deploy the trained model into a production environment, which may involve packaging the model as a service or embedding it within an application.\n",
        "\n",
        "Integrate the model with existing systems or workflows, ensuring compatibility and seamless operation.\n",
        "\n",
        "Monitor the model's performance in real-world scenarios and update it periodically as needed.\n",
        "\n",
        "\n",
        "Scalability and Efficiency:\n",
        "\n",
        "Ensure the DL solution can handle large volumes of data and scale efficiently to meet growing demands.\n",
        "\n",
        "Optimize the model's performance and resource utilization to minimize inference time and computational costs.\n",
        "\n",
        "\n",
        "Continuous Improvement and Maintenance:\n",
        "\n",
        "Monitor the model's performance over time and collect feedback from users or stakeholders.\n",
        "\n",
        "Continuously update and improve the model based on new data, changing requirements, and advancements in DL techniques.\n",
        "\n"
      ],
      "metadata": {
        "id": "Qtzd5oFaA9BJ"
      }
    },
    {
      "cell_type": "markdown",
      "source": [],
      "metadata": {
        "id": "CsYY3CUqB31S"
      }
    },
    {
      "cell_type": "markdown",
      "source": [
        "\n",
        "b)What is the use of Activation function in Artificial Neural Networks? What would be the problem if we don't use it in ANN networks.\n",
        "\n",
        "\n",
        "Activation functions play a crucial role in artificial neural networks (ANNs) by introducing non-linearity into the network. They allow neural networks to learn and model complex patterns and relationships within the data. The primary purposes and uses of activation functions in ANNs are as follows:\n",
        "\n",
        "Introducing non-linearity:\n",
        "\n",
        " Activation functions introduce non-linear transformations to the output of neurons in each layer of the neural network. Without non-linear activation functions, the entire neural network would behave like a linear regression model, making it limited in its capacity to learn complex patterns and relationships in the data.\n",
        "\n",
        "Enabling complex mappings:\n",
        "\n",
        "The non-linear properties introduced by activation functions enable ANNs to approximate complex functions, including those with non-linearities and irregularities. This ability is essential for capturing the intricate relationships present in real-world data, such as images, text, and time series.\n",
        "\n",
        "Supporting gradient-based optimization:\n",
        "\n",
        " Activation functions ensure that the network remains differentiable, allowing for the use of gradient-based optimization algorithms (e.g., backpropagation) to update the network's parameters during training. This enables efficient learning of the model parameters through the iterative adjustment of weights and biases.\n",
        "\n",
        "Controlling neuron activation:\n",
        "\n",
        "Activation functions control the magnitude and range of neuron activations, ensuring that the output of each neuron falls within a desired range. This can help stabilize the learning process and prevent issues such as exploding or vanishing gradients, which can hinder training convergence in deep networks.\n",
        "\n",
        "If activation functions were not used in ANNs, the networks would be limited to linear transformations of the input data. As a result, the network would not be able to learn and represent complex patterns and relationships in the data, severely limiting its modeling capabilities.\n",
        "\n",
        " The lack of non-linearity would render the network incapable of approximating non-linear functions effectively, making it unsuitable for tasks requiring complex pattern recognition, such as image classification, natural language processing, and speech recognition.\n",
        "\n",
        "  Additionally, without activation functions, gradient-based optimization algorithms would not be applicable, preventing efficient training of the network parameters. Overall, activation functions are essential components of ANNs, enabling them to perform complex learning tasks and achieve high levels of performance in various real-world applications."
      ],
      "metadata": {
        "id": "ek2HyndrB4oa"
      }
    },
    {
      "cell_type": "markdown",
      "source": [],
      "metadata": {
        "id": "MvEOlrvbBAhx"
      }
    },
    {
      "cell_type": "code",
      "source": [
        "#Q2) Train a Pure ANN with less than 10000 trainable parameters using the MNIST Dataset\n",
        "\n",
        "\n",
        "import tensorflow as tf\n",
        "from tensorflow.keras import layers, models\n",
        "from tensorflow.keras.datasets import mnist\n",
        "from tensorflow.keras.utils import to_categorical\n",
        "\n",
        "# Step 1: Load the MNIST dataset\n",
        "(train_images, train_labels), (test_images, test_labels) = mnist.load_data()\n",
        "\n",
        "# Step 2: Preprocess the data\n",
        "train_images = train_images.reshape((60000, 28 * 28)).astype('float32') / 255\n",
        "test_images = test_images.reshape((10000, 28 * 28)).astype('float32') / 255\n",
        "\n",
        "train_labels = to_categorical(train_labels)\n",
        "test_labels = to_categorical(test_labels)\n",
        "\n",
        "# Step 3: Design the ANN architecture\n",
        "model = models.Sequential([\n",
        "    layers.Dense(64, activation='relu', input_shape=(28 * 28,)),\n",
        "    layers.Dense(32, activation='relu'),\n",
        "    layers.Dense(10, activation='softmax')\n",
        "])\n",
        "\n",
        "# Step 4: Compile the model\n",
        "model.compile(optimizer='adam',\n",
        "              loss='categorical_crossentropy',\n",
        "              metrics=['accuracy'])\n",
        "\n",
        "# Step 5: Train the model\n",
        "history = model.fit(train_images, train_labels,\n",
        "                    epochs=10,\n",
        "                    batch_size=128,\n",
        "                    validation_split=0.2)\n",
        "\n",
        "# Step 6: Evaluate the model\n",
        "test_loss, test_acc = model.evaluate(test_images, test_labels)\n",
        "print('Test accuracy:', test_acc)\n",
        "\n"
      ],
      "metadata": {
        "id": "MeKPSeasCgp6"
      },
      "execution_count": null,
      "outputs": []
    },
    {
      "cell_type": "code",
      "source": [
        "Q3)Perform Regression Task using ANN\n",
        "\n",
        "\n",
        "import numpy as np\n",
        "from sklearn.datasets import load_boston\n",
        "from sklearn.model_selection import train_test_split\n",
        "from sklearn.preprocessing import StandardScaler\n",
        "from tensorflow.keras.models import Sequential\n",
        "from tensorflow.keras.layers import Dense\n",
        "\n",
        "# Step 1: Load the Boston Housing dataset\n",
        "boston = load_boston()\n",
        "X = boston.data\n",
        "y = boston.target\n",
        "\n",
        "# Step 2: Preprocess the data\n",
        "scaler = StandardScaler()\n",
        "X_scaled = scaler.fit_transform(X)\n",
        "X_train, X_test, y_train, y_test = train_test_split(X_scaled, y, test_size=0.2, random_state=42)\n",
        "\n",
        "# Step 3: Design the ANN architecture\n",
        "model = Sequential([\n",
        "    Dense(64, activation='relu', input_shape=(X_train.shape[1],)),\n",
        "    Dense(32, activation='relu'),\n",
        "    Dense(1)  # Output layer with one neuron for regression\n",
        "])\n",
        "\n",
        "# Step 4: Compile the model\n",
        "model.compile(optimizer='adam', loss='mean_squared_error')\n",
        "\n",
        "# Step 5: Train the model\n",
        "model.fit(X_train, y_train, epochs=100, batch_size=32, verbose=1)\n",
        "\n",
        "# Step 6: Evaluate the model\n",
        "test_loss = model.evaluate(X_test, y_test)\n",
        "print(\"Test Loss:\", test_loss)\n"
      ],
      "metadata": {
        "id": "RSbUyzp1C2OK"
      },
      "execution_count": null,
      "outputs": []
    }
  ]
}